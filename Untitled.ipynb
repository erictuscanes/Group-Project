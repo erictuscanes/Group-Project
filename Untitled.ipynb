{
 "cells": [
  {
   "cell_type": "code",
   "execution_count": 135,
   "metadata": {
    "scrolled": true
   },
   "outputs": [
    {
     "data": {
      "text/html": [
       "<div>\n",
       "<style scoped>\n",
       "    .dataframe tbody tr th:only-of-type {\n",
       "        vertical-align: middle;\n",
       "    }\n",
       "\n",
       "    .dataframe tbody tr th {\n",
       "        vertical-align: top;\n",
       "    }\n",
       "\n",
       "    .dataframe thead th {\n",
       "        text-align: right;\n",
       "    }\n",
       "</style>\n",
       "<table border=\"1\" class=\"dataframe\">\n",
       "  <thead>\n",
       "    <tr style=\"text-align: right;\">\n",
       "      <th></th>\n",
       "      <th>Team</th>\n",
       "      <th>2011</th>\n",
       "      <th>2012</th>\n",
       "      <th>2013</th>\n",
       "      <th>2014</th>\n",
       "      <th>2015</th>\n",
       "    </tr>\n",
       "  </thead>\n",
       "  <tbody>\n",
       "    <tr>\n",
       "      <th>0</th>\n",
       "      <td>Arizona</td>\n",
       "      <td>0.500</td>\n",
       "      <td>0.313</td>\n",
       "      <td>0.625</td>\n",
       "      <td>0.500</td>\n",
       "      <td>0.813</td>\n",
       "    </tr>\n",
       "    <tr>\n",
       "      <th>1</th>\n",
       "      <td>Atlanta</td>\n",
       "      <td>0.625</td>\n",
       "      <td>0.813</td>\n",
       "      <td>0.250</td>\n",
       "      <td>0.375</td>\n",
       "      <td>0.500</td>\n",
       "    </tr>\n",
       "    <tr>\n",
       "      <th>2</th>\n",
       "      <td>Baltimore</td>\n",
       "      <td>0.750</td>\n",
       "      <td>0.625</td>\n",
       "      <td>0.500</td>\n",
       "      <td>0.625</td>\n",
       "      <td>0.313</td>\n",
       "    </tr>\n",
       "    <tr>\n",
       "      <th>3</th>\n",
       "      <td>Buffalo</td>\n",
       "      <td>0.375</td>\n",
       "      <td>0.375</td>\n",
       "      <td>0.375</td>\n",
       "      <td>0.563</td>\n",
       "      <td>0.500</td>\n",
       "    </tr>\n",
       "    <tr>\n",
       "      <th>4</th>\n",
       "      <td>Carolina</td>\n",
       "      <td>0.375</td>\n",
       "      <td>0.438</td>\n",
       "      <td>0.750</td>\n",
       "      <td>0.468</td>\n",
       "      <td>0.938</td>\n",
       "    </tr>\n",
       "  </tbody>\n",
       "</table>\n",
       "</div>"
      ],
      "text/plain": [
       "        Team   2011   2012   2013   2014   2015\n",
       "0    Arizona  0.500  0.313  0.625  0.500  0.813\n",
       "1    Atlanta  0.625  0.813  0.250  0.375  0.500\n",
       "2  Baltimore  0.750  0.625  0.500  0.625  0.313\n",
       "3    Buffalo  0.375  0.375  0.375  0.563  0.500\n",
       "4   Carolina  0.375  0.438  0.750  0.468  0.938"
      ]
     },
     "execution_count": 135,
     "metadata": {},
     "output_type": "execute_result"
    }
   ],
   "source": [
    "%matplotlib notebook\n",
    "%matplotlib inline\n",
    "\n",
    "import pandas as pd\n",
    "import numpy as np\n",
    "import matplotlib.pyplot as plt\n",
    "from scipy.stats import linregress\n",
    "\n",
    "# File to Load (Remember to Change These)\n",
    "file_to_load = \"ArrestSet.csv\"\n",
    "rec_to_load = \"NFL_Records.csv\"\n",
    "\n",
    "# Read Purchasing File and store into Pandas data frame\n",
    "arrestData = pd.read_csv(file_to_load)\n",
    "recData = pd.read_csv(rec_to_load)\n",
    "recData.head()"
   ]
  },
  {
   "cell_type": "code",
   "execution_count": null,
   "metadata": {},
   "outputs": [],
   "source": [
    "#Colors\n"
   ]
  },
  {
   "cell_type": "code",
   "execution_count": 105,
   "metadata": {},
   "outputs": [
    {
     "data": {
      "text/html": [
       "<div>\n",
       "<style scoped>\n",
       "    .dataframe tbody tr th:only-of-type {\n",
       "        vertical-align: middle;\n",
       "    }\n",
       "\n",
       "    .dataframe tbody tr th {\n",
       "        vertical-align: top;\n",
       "    }\n",
       "\n",
       "    .dataframe thead th {\n",
       "        text-align: right;\n",
       "    }\n",
       "</style>\n",
       "<table border=\"1\" class=\"dataframe\">\n",
       "  <thead>\n",
       "    <tr style=\"text-align: right;\">\n",
       "      <th></th>\n",
       "      <th>level_0</th>\n",
       "      <th>season</th>\n",
       "      <th>team</th>\n",
       "      <th>arrests</th>\n",
       "    </tr>\n",
       "  </thead>\n",
       "  <tbody>\n",
       "    <tr>\n",
       "      <th>0</th>\n",
       "      <td>arrests</td>\n",
       "      <td>2011</td>\n",
       "      <td>Arizona</td>\n",
       "      <td>46.0</td>\n",
       "    </tr>\n",
       "    <tr>\n",
       "      <th>2</th>\n",
       "      <td>arrests</td>\n",
       "      <td>2011</td>\n",
       "      <td>Baltimore</td>\n",
       "      <td>27.0</td>\n",
       "    </tr>\n",
       "    <tr>\n",
       "      <th>4</th>\n",
       "      <td>arrests</td>\n",
       "      <td>2011</td>\n",
       "      <td>Carolina</td>\n",
       "      <td>19.0</td>\n",
       "    </tr>\n",
       "    <tr>\n",
       "      <th>5</th>\n",
       "      <td>arrests</td>\n",
       "      <td>2011</td>\n",
       "      <td>Chicago</td>\n",
       "      <td>41.0</td>\n",
       "    </tr>\n",
       "    <tr>\n",
       "      <th>6</th>\n",
       "      <td>arrests</td>\n",
       "      <td>2011</td>\n",
       "      <td>Cincinnati</td>\n",
       "      <td>23.0</td>\n",
       "    </tr>\n",
       "  </tbody>\n",
       "</table>\n",
       "</div>"
      ],
      "text/plain": [
       "   level_0  season        team  arrests\n",
       "0  arrests    2011     Arizona     46.0\n",
       "2  arrests    2011   Baltimore     27.0\n",
       "4  arrests    2011    Carolina     19.0\n",
       "5  arrests    2011     Chicago     41.0\n",
       "6  arrests    2011  Cincinnati     23.0"
      ]
     },
     "execution_count": 105,
     "metadata": {},
     "output_type": "execute_result"
    }
   ],
   "source": [
    "#Scatterplot\n",
    "\n",
    "rollingData = arrestData[[\"season\",\"home_team\",\"away_team\",\"home_score\",\"away_score\",\"arrests\"]]\n",
    "homeTeams = arrestData[\"home_team\"].unique()\n",
    "awayTeams = arrestData[\"away_team\"].unique()\n",
    "allTeams = pd.DataFrame(list(homeTeams) + list(awayTeams))\n",
    "\n",
    "allTeams = pd.DataFrame(allTeams[0].unique())\n",
    "allTeams = allTeams.rename(columns = {0:\"Teams\"})\n",
    "\n",
    "rollingRecord = pd.DataFrame(recData[\"Team\"])\n",
    "rollingRecord[\"2011Rec\"] = recData[\"2011\"]\n",
    "rollingRecord[\"2012Rec\"] = (recData[\"2011\"] + recData[\"2012\"])/2\n",
    "rollingRecord[\"2013Rec\"] = (recData[\"2011\"] + recData[\"2012\"] + recData[\"2013\"])/3\n",
    "rollingRecord[\"2014Rec\"] = (recData[\"2011\"] + recData[\"2012\"] + recData[\"2013\"] + recData[\"2014\"])/4\n",
    "rollingRecord[\"2015Rec\"] = (recData[\"2011\"] + recData[\"2012\"] + recData[\"2013\"] + recData[\"2014\"] + recData[\"2015\"])/5\n",
    "\n",
    "homeArrests = rollingData[[\"season\",\"home_team\",\"arrests\"]].groupby([\"season\",\"home_team\"]).sum()\n",
    "#homeArrests = homeArrests.unstack(level = 0)\n",
    "homeArrests = homeArrests.reset_index()\n",
    "homeArrests = homeArrests.rename(columns = {\"home_team\":\"team\"})\n",
    "homeArrests = homeArrests.set_index(['season', 'team'])\n",
    "awayArrests = rollingData[[\"season\",\"away_team\",\"arrests\"]].groupby([\"season\",\"away_team\"]).sum()\n",
    "#awayArrests = awayArrests.unstack(level = 0)\n",
    "awayArrests = awayArrests.reset_index()\n",
    "awayArrests = awayArrests.rename(columns = {'away_team':\"team\"})\n",
    "awayArrests = awayArrests.set_index(['season', 'team'])\n",
    "homeArrests\n",
    "arrests = homeArrests + awayArrests\n",
    "arrests= arrests.unstack(level = 0)\n",
    "arrests = arrests.unstack(level = 0)\n",
    "arrests = arrests.reset_index()\n",
    "arrests = arrests.rename(columns = {0:\"arrests\"})\n",
    "arrests = arrests.dropna()\n",
    "arrests.head()\n",
    "\n",
    "#arrests = pd.merge(homeArrests,awayArrests,how = \"left\", on = [\"season\",\"team\"])\n",
    "#arrests = arrests.groupby()\n",
    "#filtArrests = arrests.dropna()\n",
    "#filtArrests= filtArrests.reset_index()\n",
    "#filtArrests = filtArrests.rename(columns = {0:\"Team\"})\n",
    "\n",
    "#scatData = pd.merge(filtArrests,rollingRecord,how = \"left\", left_on = \"season\", right_on = \"Team\")\n",
    "#plt.scatter(filtArrests[\"2011\"],rural[\"fare\"], s = rural[\"driver_count\"]*10,marker='o',facecolors='gold',edgecolors='black', label = \"Rural\", alpha = 0.85)\n",
    "#plt.scatter(urban[\"count\"],urban[\"fare\"], s = urban[\"driver_count\"]*10,marker='o',facecolors='coral',edgecolors='black', label = \"Urban\",alpha = 0.85)\n",
    "#plt.scatter(suburban[\"count\"],suburban[\"fare\"], s = suburban[\"driver_count\"]*10,marker='o',facecolors='lightblue',edgecolors='black', label = \"Suburban\",alpha = 0.85)\n",
    "# Incorporate the other graph properties\n",
    "#plt.grid()\n",
    "#plt.xlabel('Total Number of rides (Per City)')\n",
    "#plt.ylabel('Average Fare ($)')\n",
    "#plt.title('Pyber Ride Sharing Data (2016)')\n",
    "# Create a legend\n",
    "#lgnd = plt.legend()\n",
    "\n",
    "\n",
    "#pd.merge?"
   ]
  },
  {
   "cell_type": "code",
   "execution_count": 175,
   "metadata": {},
   "outputs": [
    {
     "data": {
      "text/plain": [
       "([0,\n",
       "  1,\n",
       "  2,\n",
       "  3,\n",
       "  4,\n",
       "  5,\n",
       "  6,\n",
       "  7,\n",
       "  8,\n",
       "  9,\n",
       "  10,\n",
       "  11,\n",
       "  12,\n",
       "  13,\n",
       "  14,\n",
       "  15,\n",
       "  16,\n",
       "  17,\n",
       "  18,\n",
       "  19,\n",
       "  20,\n",
       "  21,\n",
       "  22,\n",
       "  23,\n",
       "  24,\n",
       "  25,\n",
       "  26,\n",
       "  27,\n",
       "  28,\n",
       "  29,\n",
       "  30,\n",
       "  31],\n",
       " <a list of 32 Text xticklabel objects>)"
      ]
     },
     "execution_count": 175,
     "metadata": {},
     "output_type": "execute_result"
    },
    {
     "data": {
      "image/png": "[encoded data removed]",
      "text/plain": [
       "<Figure size 432x288 with 1 Axes>"
      ]
     },
     "metadata": {},
     "output_type": "display_data"
    }
   ],
   "source": [
    "homeArrests = rollingData[['home_team','arrests']]\n",
    "homeArrests = homeArrests.rename(columns = {\"home_team\":\"team\"})\n",
    "avgArrests = avgArrests.groupby('team').mean()\n",
    "avgArrests = avgArrests.reset_index()\n",
    "avgArrests = avgArrests.rename(columns = {0:\"arrests\"})\n",
    "avgArrests = avgArrests.sort_values('arrests', ascending = True)\n",
    "homeArrests\n",
    "plt.bar(avgArrests['team'], avgArrests['arrests'], align=\"center\", color = '')\n",
    "plt.xticks(rotation=90)\n",
    "\n"
   ]
  },
  {
   "cell_type": "code",
   "execution_count": 132,
   "metadata": {},
   "outputs": [],
   "source": [
    "plt.show()"
   ]
  },
  {
   "cell_type": "code",
   "execution_count": 174,
   "metadata": {},
   "outputs": [
    {
     "data": {
      "text/plain": [
       "<BarContainer object of 9 artists>"
      ]
     },
     "execution_count": 174,
     "metadata": {},
     "output_type": "execute_result"
    },
    {
     "data": {
      "image/png": "[encoded data removed]",
      "text/plain": [
       "<Figure size 432x288 with 1 Axes>"
      ]
     },
     "metadata": {},
     "output_type": "display_data"
    }
   ],
   "source": [
    "timeData = arrestData[['gametime_local','arrests']]\n",
    "timeData = timeData.rename(columns = {'gametime_local':'time'})\n",
    "timeData['time'] = arrestData['gametime_local'].str.split(':').str.get(0)\n",
    "timeData['time'] = timeData['time'].replace('12','0')\n",
    "timeData['time'] = timeData['time'].astype(int)\n",
    "timeData = timeData.groupby('time').mean()\n",
    "timeData =timeData.reset_index()\n",
    "plt.bar(timeData['time'],timeData['arrests'], align = 'center')"
   ]
  }
 ],
 "metadata": {
  "kernelspec": {
   "display_name": "Python 3",
   "language": "python",
   "name": "python3"
  },
  "language_info": {
   "codemirror_mode": {
    "name": "ipython",
    "version": 3
   },
   "file_extension": ".py",
   "mimetype": "text/x-python",
   "name": "python",
   "nbconvert_exporter": "python",
   "pygments_lexer": "ipython3",
   "version": "3.6.5"
  }
 },
 "nbformat": 4,
 "nbformat_minor": 2
}
